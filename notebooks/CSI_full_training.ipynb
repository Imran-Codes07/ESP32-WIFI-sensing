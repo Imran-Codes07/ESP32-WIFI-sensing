{
  "nbformat": 4,
  "nbformat_minor": 0,
  "metadata": {
    "colab": {
      "provenance": []
    },
    "kernelspec": {
      "name": "python3",
      "display_name": "Python 3"
    },
    "language_info": {
      "name": "python"
    }
  },
  "cells": [
    {
      "cell_type": "markdown",
      "source": [
        "## Environment prep"
      ],
      "metadata": {
        "id": "UjBBVPcQOuJs"
      }
    },
    {
      "cell_type": "code",
      "execution_count": 1,
      "metadata": {
        "colab": {
          "base_uri": "https://localhost:8080/"
        },
        "id": "JkaieB3DCpeM",
        "outputId": "bded1f5d-7241-4c3e-b7a0-29c45b0517b9"
      },
      "outputs": [
        {
          "output_type": "stream",
          "name": "stdout",
          "text": [
            "Collecting hampel\n",
            "  Downloading hampel-1.0.2.tar.gz (78 kB)\n",
            "\u001b[?25l     \u001b[90m━━━━━━━━━━━━━━━━━━━━━━━━━━━━━━━━━━━━━━━━\u001b[0m \u001b[32m0.0/78.7 kB\u001b[0m \u001b[31m?\u001b[0m eta \u001b[36m-:--:--\u001b[0m\r\u001b[2K     \u001b[90m━━━━━━━━━━━━━━━━━━━━━━━━━━━━━━━━━━━━━━━━\u001b[0m \u001b[32m78.7/78.7 kB\u001b[0m \u001b[31m2.7 MB/s\u001b[0m eta \u001b[36m0:00:00\u001b[0m\n",
            "\u001b[?25h  Installing build dependencies ... \u001b[?25l\u001b[?25hdone\n",
            "  Getting requirements to build wheel ... \u001b[?25l\u001b[?25hdone\n",
            "  Preparing metadata (pyproject.toml) ... \u001b[?25l\u001b[?25hdone\n",
            "Requirement already satisfied: numpy>=1.17.3 in /usr/local/lib/python3.11/dist-packages (from hampel) (2.0.2)\n",
            "Requirement already satisfied: pandas in /usr/local/lib/python3.11/dist-packages (from hampel) (2.2.2)\n",
            "Requirement already satisfied: python-dateutil>=2.8.2 in /usr/local/lib/python3.11/dist-packages (from pandas->hampel) (2.9.0.post0)\n",
            "Requirement already satisfied: pytz>=2020.1 in /usr/local/lib/python3.11/dist-packages (from pandas->hampel) (2025.2)\n",
            "Requirement already satisfied: tzdata>=2022.7 in /usr/local/lib/python3.11/dist-packages (from pandas->hampel) (2025.2)\n",
            "Requirement already satisfied: six>=1.5 in /usr/local/lib/python3.11/dist-packages (from python-dateutil>=2.8.2->pandas->hampel) (1.17.0)\n",
            "Building wheels for collected packages: hampel\n",
            "  Building wheel for hampel (pyproject.toml) ... \u001b[?25l\u001b[?25hdone\n",
            "  Created wheel for hampel: filename=hampel-1.0.2-cp311-cp311-linux_x86_64.whl size=228534 sha256=696d696e4d6eb746f3fed68c3cf3079a20ac86d844371ec91d9408af9f441881\n",
            "  Stored in directory: /root/.cache/pip/wheels/fd/e9/7e/ad82a52cf81975fce3dd6ae0e00bf26787b546e2518ad861d4\n",
            "Successfully built hampel\n",
            "Installing collected packages: hampel\n",
            "Successfully installed hampel-1.0.2\n"
          ]
        }
      ],
      "source": [
        "!pip install hampel"
      ]
    },
    {
      "cell_type": "code",
      "source": [
        "from hampel import hampel\n",
        "import numpy as np\n",
        "from scipy.signal import savgol_filter\n",
        "import pandas as pd\n",
        "import os\n",
        "import matplotlib.pyplot as plt\n",
        "import re\n",
        "from math import sqrt, atan2"
      ],
      "metadata": {
        "id": "b0vXd76kDOV5"
      },
      "execution_count": 2,
      "outputs": []
    },
    {
      "cell_type": "markdown",
      "source": [
        "## Load all data into a list of dataframes"
      ],
      "metadata": {
        "id": "7SA5c-mJMaMS"
      }
    },
    {
      "cell_type": "code",
      "source": [
        "# Specify the path to your main folder\n",
        "main_folder_path = '/content/ESP32-WiFi-Sensing/datasets/01-tvat-raw'\n",
        "\n",
        "# Initialize an empty dictionary to store lists of DataFrames for each activity\n",
        "# If all CSVs are directly inside 01-tvat-raw\n",
        "activity_dataframes = []\n",
        "label_list = []\n",
        "\n",
        "for file_name in os.listdir(main_folder_path):\n",
        "    if file_name.endswith('.csv'):\n",
        "        file_path = os.path.join(main_folder_path, file_name)\n",
        "        label_list.append('label')  # Placeholder if labels not needed\n",
        "        df = pd.read_csv(file_path)\n",
        "        activity_dataframes.append(df)\n"
      ],
      "metadata": {
        "id": "Q3fhbXqVEEN8"
      },
      "execution_count": 31,
      "outputs": []
    },
    {
      "cell_type": "code",
      "source": [
        "print(len(activity_dataframes))"
      ],
      "metadata": {
        "colab": {
          "base_uri": "https://localhost:8080/"
        },
        "id": "2LQnzG7YPjSL",
        "outputId": "0bdce5fd-f9bc-45bd-8cff-299d76aba091"
      },
      "execution_count": 32,
      "outputs": [
        {
          "output_type": "stream",
          "name": "stdout",
          "text": [
            "42\n"
          ]
        }
      ]
    },
    {
      "cell_type": "code",
      "source": [
        "# Print column names of the first dataframe\n",
        "print(activity_dataframes[0].columns)\n"
      ],
      "metadata": {
        "id": "o9u1beSwslw4",
        "outputId": "041c1066-e886-4a32-c80e-079887bf1021",
        "colab": {
          "base_uri": "https://localhost:8080/"
        }
      },
      "execution_count": 33,
      "outputs": [
        {
          "output_type": "stream",
          "name": "stdout",
          "text": [
            "Index(['type', 'role', 'mac', 'rssi', 'rate', 'sig_mode', 'mcs', 'bandwidth',\n",
            "       'smoothing', 'not_sounding', 'aggregation', 'stbc', 'fec_coding', 'sgi',\n",
            "       'noise_floor', 'ampdu_cnt', 'channel', 'secondary_channel',\n",
            "       'local_timestamp', 'ant', 'sig_len', 'rx_state', 'real_time_set',\n",
            "       'real_timestamp', 'len', 'CSI_DATA'],\n",
            "      dtype='object')\n"
          ]
        }
      ]
    },
    {
      "cell_type": "code",
      "source": [
        "print(activity_dataframes[0].head())\n"
      ],
      "metadata": {
        "id": "wZVJWZ08wQiX",
        "outputId": "a6120ab8-15c1-4628-fc07-146d2761dcfb",
        "colab": {
          "base_uri": "https://localhost:8080/"
        }
      },
      "execution_count": 34,
      "outputs": [
        {
          "output_type": "stream",
          "name": "stdout",
          "text": [
            "       type role                mac  rssi  rate  sig_mode  mcs  bandwidth  \\\n",
            "0  CSI_DATA   AP  C8:F0:9E:F2:C2:EC   -73    11         0    0          0   \n",
            "1  CSI_DATA   AP  C8:F0:9E:F2:C2:EC   -73    11         0    0          0   \n",
            "2  CSI_DATA   AP  C8:F0:9E:F2:C2:EC   -73    11         0    0          0   \n",
            "3  CSI_DATA   AP  C8:F0:9E:F2:C2:EC   -74    11         0    0          0   \n",
            "4  CSI_DATA   AP  C8:F0:9E:F2:C2:EC   -73    11         0    0          0   \n",
            "\n",
            "   smoothing  not_sounding  ...  channel  secondary_channel  local_timestamp  \\\n",
            "0          0             0  ...        6                  1         11927314   \n",
            "1          0             0  ...        6                  1         11930254   \n",
            "2          0             0  ...        6                  1         11958142   \n",
            "3          0             0  ...        6                  1         11985526   \n",
            "4          0             0  ...        6                  1         12012367   \n",
            "\n",
            "   ant  sig_len  rx_state  real_time_set  real_timestamp  len  \\\n",
            "0    0       28         0              0         12.0884  128   \n",
            "1    0      157         0              0         12.0945  128   \n",
            "2    0      135         0              0         12.1191  128   \n",
            "3    0      390         0              0         12.1468  128   \n",
            "4    0      390         0              0         12.1736  128   \n",
            "\n",
            "                                            CSI_DATA  \n",
            "0  [28 -64 1 0 0 0 0 0 0 0 0 0 23 11 23 10 22 11 ...  \n",
            "1  [-99 -48 9 0 0 0 0 0 0 0 0 0 -18 -23 -22 -20 -...  \n",
            "2  [-121 112 8 0 0 0 0 0 0 0 0 0 67 -6 67 -8 65 -...  \n",
            "3  [-122 -31 23 0 0 0 0 0 0 0 0 0 -12 23 -11 24 -...  \n",
            "4  [-122 -31 23 0 0 0 0 0 0 0 0 0 -13 -21 -13 -22...  \n",
            "\n",
            "[5 rows x 26 columns]\n"
          ]
        }
      ]
    },
    {
      "cell_type": "markdown",
      "source": [
        "## Extract amplitude from dataframes"
      ],
      "metadata": {
        "id": "E_DodshEOouC"
      }
    },
    {
      "cell_type": "code",
      "source": [
        "amp_dataframes = []\n",
        "# Loop through each file\n",
        "for df in activity_dataframes:\n",
        "    # Construct the full path to the file\n",
        "    data = []\n",
        "    for _, row in df.iterrows():\n",
        "      imaginary = []\n",
        "      real = []\n",
        "      amplitudes = []\n",
        "\n",
        "        # Parse string to create integer list\n",
        "      csi_string = re.findall(r\"\\[(.*)\\]\", row['CSI_DATA'])[0]\n",
        "      csi_raw = [int(x) for x in csi_string.split(\" \") if x != '']\n",
        "\n",
        "        # Create list of imaginary and real numbers from CSI\n",
        "      for i in range(len(csi_raw)):\n",
        "          if i % 2 == 0:\n",
        "              imaginary.append(csi_raw[i])\n",
        "          else:\n",
        "              real.append(csi_raw[i])\n",
        "\n",
        "        # Transform imaginary and real into amplitude and phase\n",
        "      for i in range(int(len(csi_raw) / 2)):\n",
        "          amplitudes.append(sqrt(imaginary[i] ** 2 + real[i] ** 2))\n",
        "      data.append(amplitudes)\n",
        "    temp_df = pd.DataFrame(data)\n",
        "    amp_dataframes.append(temp_df)\n",
        "\n"
      ],
      "metadata": {
        "id": "TULzmCayM5ib"
      },
      "execution_count": 35,
      "outputs": []
    },
    {
      "cell_type": "code",
      "source": [
        "print(len(amp_dataframes))\n",
        "print(len(label_list))"
      ],
      "metadata": {
        "colab": {
          "base_uri": "https://localhost:8080/"
        },
        "id": "XMeypuKdQxaD",
        "outputId": "53510c1f-dfef-46a5-d257-5e51da841c7c"
      },
      "execution_count": 36,
      "outputs": [
        {
          "output_type": "stream",
          "name": "stdout",
          "text": [
            "42\n",
            "42\n"
          ]
        }
      ]
    },
    {
      "cell_type": "code",
      "source": [
        "print(label_list)"
      ],
      "metadata": {
        "colab": {
          "base_uri": "https://localhost:8080/"
        },
        "id": "zvMLjCS9b-pE",
        "outputId": "2de7e8fb-cb58-42cd-803f-5cb27447629c"
      },
      "execution_count": 37,
      "outputs": [
        {
          "output_type": "stream",
          "name": "stdout",
          "text": [
            "['label', 'label', 'label', 'label', 'label', 'label', 'label', 'label', 'label', 'label', 'label', 'label', 'label', 'label', 'label', 'label', 'label', 'label', 'label', 'label', 'label', 'label', 'label', 'label', 'label', 'label', 'label', 'label', 'label', 'label', 'label', 'label', 'label', 'label', 'label', 'label', 'label', 'label', 'label', 'label', 'label', 'label']\n"
          ]
        }
      ]
    },
    {
      "cell_type": "code",
      "source": [
        "print(amp_dataframes[1].shape)"
      ],
      "metadata": {
        "colab": {
          "base_uri": "https://localhost:8080/"
        },
        "id": "Hwk9DIgGRm4J",
        "outputId": "e12a062d-36c6-4ffc-8026-f9427bb45b48"
      },
      "execution_count": 38,
      "outputs": [
        {
          "output_type": "stream",
          "name": "stdout",
          "text": [
            "(8213, 64)\n"
          ]
        }
      ]
    },
    {
      "cell_type": "code",
      "source": [
        "plt.figure(figsize=(8, 6))\n",
        "plt.plot(amp_dataframes[2][50],color='g')\n",
        "plt.xlabel('Index')\n",
        "plt.ylabel('Amplitude')\n",
        "plt.title('Raw CSI Amplitude Data: LL')\n",
        "plt.show()"
      ],
      "metadata": {
        "colab": {
          "base_uri": "https://localhost:8080/",
          "height": 564
        },
        "id": "-on3aGyaccVp",
        "outputId": "829cb06a-186b-4b23-873a-1690f969584b"
      },
      "execution_count": 39,
      "outputs": [
        {
          "output_type": "display_data",
          "data": {
            "text/plain": [
              "<Figure size 800x600 with 1 Axes>"
            ],
            "image/png": "[encoded data removed]"
          },
          "metadata": {}
        }
      ]
    },
    {
      "cell_type": "code",
      "source": [
        "print(amp_dataframes[2][50].head(10))"
      ],
      "metadata": {
        "colab": {
          "base_uri": "https://localhost:8080/"
        },
        "id": "EEoh9GOhi16_",
        "outputId": "60ec2983-f4f9-41e8-86fb-03df6793652f"
      },
      "execution_count": 40,
      "outputs": [
        {
          "output_type": "stream",
          "name": "stdout",
          "text": [
            "0    25.495098\n",
            "1    23.194827\n",
            "2    19.697716\n",
            "3    15.620499\n",
            "4    13.416408\n",
            "5    11.180340\n",
            "6    13.453624\n",
            "7     9.433981\n",
            "8     7.615773\n",
            "9     3.162278\n",
            "Name: 50, dtype: float64\n"
          ]
        }
      ]
    },
    {
      "cell_type": "markdown",
      "source": [
        "## Apply noise filter"
      ],
      "metadata": {
        "id": "Gd67kw2pQ69f"
      }
    },
    {
      "cell_type": "code",
      "source": [
        "denoised_dataframes = []\n",
        "for amplitude in amp_dataframes:\n",
        "    filtered_data = pd.DataFrame()\n",
        "    for col in amplitude.columns:\n",
        "      col_series = amplitude[col]\n",
        "      # Hampel filter\n",
        "\n",
        "      hampel_filtered = hampel(col_series, window_size=10)\n",
        "      # Savitzky-Golay filter\n",
        "      sg_filtered = savgol_filter(hampel_filtered.filtered_data, window_length=10, polyorder=3)\n",
        "      filtered_data[col] = sg_filtered\n",
        "    denoised_dataframes.append(filtered_data)\n"
      ],
      "metadata": {
        "id": "DtYC8bHcRE_O"
      },
      "execution_count": 41,
      "outputs": []
    },
    {
      "cell_type": "code",
      "source": [
        "print(len(denoised_dataframes))"
      ],
      "metadata": {
        "colab": {
          "base_uri": "https://localhost:8080/"
        },
        "id": "Ks8lIghDaLiX",
        "outputId": "ad2cbdab-12a5-4890-a7f3-629a5848c3a3"
      },
      "execution_count": 42,
      "outputs": [
        {
          "output_type": "stream",
          "name": "stdout",
          "text": [
            "42\n"
          ]
        }
      ]
    },
    {
      "cell_type": "code",
      "source": [
        "path = '/content/ESP32-WiFi-Sensing/datasets/02-tvat-filtered'\n",
        "for i, dataframe in enumerate(denoised_dataframes):\n",
        "  filename = f\"{label_list[i]}-{i+1}.csv\"\n",
        "  dataframe.to_csv(path+filename, index=False)\n"
      ],
      "metadata": {
        "id": "6LagogloaUfO"
      },
      "execution_count": 43,
      "outputs": []
    },
    {
      "cell_type": "code",
      "source": [
        "plt.figure(figsize=(8, 6))\n",
        "plt.plot(denoised_dataframes[2][50],color='g')\n",
        "plt.xlabel('Index')\n",
        "plt.ylabel('Amplitude')\n",
        "plt.title('Denoise CSI Amplitude Data: LL')\n",
        "plt.show()"
      ],
      "metadata": {
        "colab": {
          "base_uri": "https://localhost:8080/",
          "height": 564
        },
        "id": "tN_iVNj-cS-x",
        "outputId": "330dd174-ac1c-4107-e1a5-0a09c0d6eb54"
      },
      "execution_count": 44,
      "outputs": [
        {
          "output_type": "display_data",
          "data": {
            "text/plain": [
              "<Figure size 800x600 with 1 Axes>"
            ],
            "image/png": "[encoded data removed]"
          },
          "metadata": {}
        }
      ]
    },
    {
      "cell_type": "code",
      "source": [
        "print(denoised_dataframes[2][50].head(10))"
      ],
      "metadata": {
        "colab": {
          "base_uri": "https://localhost:8080/"
        },
        "id": "NP4grm8Vi6G7",
        "outputId": "71ffd44b-ee55-47cc-f227-8e4e5d361615"
      },
      "execution_count": 45,
      "outputs": [
        {
          "output_type": "stream",
          "name": "stdout",
          "text": [
            "0    26.481665\n",
            "1    21.927896\n",
            "2    18.604412\n",
            "3    16.200443\n",
            "4    14.405230\n",
            "5    11.531882\n",
            "6     9.614838\n",
            "7     7.232495\n",
            "8     5.302951\n",
            "9     6.303108\n",
            "Name: 50, dtype: float32\n"
          ]
        }
      ]
    },
    {
      "cell_type": "code",
      "source": [
        "\n",
        "columns_to_drop = [2,3,4,5,32,59,60,61,62,63]\n",
        "for df in amp_dataframes:\n",
        "    df.drop(df.columns[columns_to_drop], axis=1,inplace=True)\n"
      ],
      "metadata": {
        "id": "Hu5dkwojjFiM"
      },
      "execution_count": 46,
      "outputs": []
    },
    {
      "cell_type": "markdown",
      "source": [
        "## Segmentation"
      ],
      "metadata": {
        "id": "5pKhFctwrV85"
      }
    },
    {
      "cell_type": "code",
      "source": [
        "segment_dataframes = []\n",
        "labels = []\n",
        "for i, df in enumerate(amp_dataframes):\n",
        "  df_len = len(df)\n",
        "  #df['label'] = label_list[i]\n",
        "  df.drop(df.columns[-1],axis=1,inplace=True)\n",
        "  segment_len = (df_len//200)*200\n",
        "  rows_to_skip = len(df) - segment_len\n",
        "  rounded_df = df.iloc[rows_to_skip:]\n",
        "  segment_df = np.array_split(rounded_df, range(200, len(rounded_df), 200))\n",
        "  for segment in segment_df:\n",
        "    segment_dataframes.append(segment)\n",
        "    labels.append(label_list[i])\n"
      ],
      "metadata": {
        "id": "kckzGpPxqcsq",
        "outputId": "b25eb4da-95a0-4b6b-bbca-505e044e1ea5",
        "colab": {
          "base_uri": "https://localhost:8080/"
        }
      },
      "execution_count": 47,
      "outputs": [
        {
          "output_type": "stream",
          "name": "stderr",
          "text": [
            "/usr/local/lib/python3.11/dist-packages/numpy/_core/fromnumeric.py:57: FutureWarning: 'DataFrame.swapaxes' is deprecated and will be removed in a future version. Please use 'DataFrame.transpose' instead.\n",
            "  return bound(*args, **kwds)\n",
            "/usr/local/lib/python3.11/dist-packages/numpy/_core/fromnumeric.py:57: FutureWarning: 'DataFrame.swapaxes' is deprecated and will be removed in a future version. Please use 'DataFrame.transpose' instead.\n",
            "  return bound(*args, **kwds)\n",
            "/usr/local/lib/python3.11/dist-packages/numpy/_core/fromnumeric.py:57: FutureWarning: 'DataFrame.swapaxes' is deprecated and will be removed in a future version. Please use 'DataFrame.transpose' instead.\n",
            "  return bound(*args, **kwds)\n",
            "/usr/local/lib/python3.11/dist-packages/numpy/_core/fromnumeric.py:57: FutureWarning: 'DataFrame.swapaxes' is deprecated and will be removed in a future version. Please use 'DataFrame.transpose' instead.\n",
            "  return bound(*args, **kwds)\n",
            "/usr/local/lib/python3.11/dist-packages/numpy/_core/fromnumeric.py:57: FutureWarning: 'DataFrame.swapaxes' is deprecated and will be removed in a future version. Please use 'DataFrame.transpose' instead.\n",
            "  return bound(*args, **kwds)\n",
            "/usr/local/lib/python3.11/dist-packages/numpy/_core/fromnumeric.py:57: FutureWarning: 'DataFrame.swapaxes' is deprecated and will be removed in a future version. Please use 'DataFrame.transpose' instead.\n",
            "  return bound(*args, **kwds)\n",
            "/usr/local/lib/python3.11/dist-packages/numpy/_core/fromnumeric.py:57: FutureWarning: 'DataFrame.swapaxes' is deprecated and will be removed in a future version. Please use 'DataFrame.transpose' instead.\n",
            "  return bound(*args, **kwds)\n",
            "/usr/local/lib/python3.11/dist-packages/numpy/_core/fromnumeric.py:57: FutureWarning: 'DataFrame.swapaxes' is deprecated and will be removed in a future version. Please use 'DataFrame.transpose' instead.\n",
            "  return bound(*args, **kwds)\n",
            "/usr/local/lib/python3.11/dist-packages/numpy/_core/fromnumeric.py:57: FutureWarning: 'DataFrame.swapaxes' is deprecated and will be removed in a future version. Please use 'DataFrame.transpose' instead.\n",
            "  return bound(*args, **kwds)\n",
            "/usr/local/lib/python3.11/dist-packages/numpy/_core/fromnumeric.py:57: FutureWarning: 'DataFrame.swapaxes' is deprecated and will be removed in a future version. Please use 'DataFrame.transpose' instead.\n",
            "  return bound(*args, **kwds)\n",
            "/usr/local/lib/python3.11/dist-packages/numpy/_core/fromnumeric.py:57: FutureWarning: 'DataFrame.swapaxes' is deprecated and will be removed in a future version. Please use 'DataFrame.transpose' instead.\n",
            "  return bound(*args, **kwds)\n",
            "/usr/local/lib/python3.11/dist-packages/numpy/_core/fromnumeric.py:57: FutureWarning: 'DataFrame.swapaxes' is deprecated and will be removed in a future version. Please use 'DataFrame.transpose' instead.\n",
            "  return bound(*args, **kwds)\n",
            "/usr/local/lib/python3.11/dist-packages/numpy/_core/fromnumeric.py:57: FutureWarning: 'DataFrame.swapaxes' is deprecated and will be removed in a future version. Please use 'DataFrame.transpose' instead.\n",
            "  return bound(*args, **kwds)\n",
            "/usr/local/lib/python3.11/dist-packages/numpy/_core/fromnumeric.py:57: FutureWarning: 'DataFrame.swapaxes' is deprecated and will be removed in a future version. Please use 'DataFrame.transpose' instead.\n",
            "  return bound(*args, **kwds)\n",
            "/usr/local/lib/python3.11/dist-packages/numpy/_core/fromnumeric.py:57: FutureWarning: 'DataFrame.swapaxes' is deprecated and will be removed in a future version. Please use 'DataFrame.transpose' instead.\n",
            "  return bound(*args, **kwds)\n",
            "/usr/local/lib/python3.11/dist-packages/numpy/_core/fromnumeric.py:57: FutureWarning: 'DataFrame.swapaxes' is deprecated and will be removed in a future version. Please use 'DataFrame.transpose' instead.\n",
            "  return bound(*args, **kwds)\n",
            "/usr/local/lib/python3.11/dist-packages/numpy/_core/fromnumeric.py:57: FutureWarning: 'DataFrame.swapaxes' is deprecated and will be removed in a future version. Please use 'DataFrame.transpose' instead.\n",
            "  return bound(*args, **kwds)\n",
            "/usr/local/lib/python3.11/dist-packages/numpy/_core/fromnumeric.py:57: FutureWarning: 'DataFrame.swapaxes' is deprecated and will be removed in a future version. Please use 'DataFrame.transpose' instead.\n",
            "  return bound(*args, **kwds)\n",
            "/usr/local/lib/python3.11/dist-packages/numpy/_core/fromnumeric.py:57: FutureWarning: 'DataFrame.swapaxes' is deprecated and will be removed in a future version. Please use 'DataFrame.transpose' instead.\n",
            "  return bound(*args, **kwds)\n",
            "/usr/local/lib/python3.11/dist-packages/numpy/_core/fromnumeric.py:57: FutureWarning: 'DataFrame.swapaxes' is deprecated and will be removed in a future version. Please use 'DataFrame.transpose' instead.\n",
            "  return bound(*args, **kwds)\n",
            "/usr/local/lib/python3.11/dist-packages/numpy/_core/fromnumeric.py:57: FutureWarning: 'DataFrame.swapaxes' is deprecated and will be removed in a future version. Please use 'DataFrame.transpose' instead.\n",
            "  return bound(*args, **kwds)\n",
            "/usr/local/lib/python3.11/dist-packages/numpy/_core/fromnumeric.py:57: FutureWarning: 'DataFrame.swapaxes' is deprecated and will be removed in a future version. Please use 'DataFrame.transpose' instead.\n",
            "  return bound(*args, **kwds)\n",
            "/usr/local/lib/python3.11/dist-packages/numpy/_core/fromnumeric.py:57: FutureWarning: 'DataFrame.swapaxes' is deprecated and will be removed in a future version. Please use 'DataFrame.transpose' instead.\n",
            "  return bound(*args, **kwds)\n",
            "/usr/local/lib/python3.11/dist-packages/numpy/_core/fromnumeric.py:57: FutureWarning: 'DataFrame.swapaxes' is deprecated and will be removed in a future version. Please use 'DataFrame.transpose' instead.\n",
            "  return bound(*args, **kwds)\n",
            "/usr/local/lib/python3.11/dist-packages/numpy/_core/fromnumeric.py:57: FutureWarning: 'DataFrame.swapaxes' is deprecated and will be removed in a future version. Please use 'DataFrame.transpose' instead.\n",
            "  return bound(*args, **kwds)\n",
            "/usr/local/lib/python3.11/dist-packages/numpy/_core/fromnumeric.py:57: FutureWarning: 'DataFrame.swapaxes' is deprecated and will be removed in a future version. Please use 'DataFrame.transpose' instead.\n",
            "  return bound(*args, **kwds)\n",
            "/usr/local/lib/python3.11/dist-packages/numpy/_core/fromnumeric.py:57: FutureWarning: 'DataFrame.swapaxes' is deprecated and will be removed in a future version. Please use 'DataFrame.transpose' instead.\n",
            "  return bound(*args, **kwds)\n",
            "/usr/local/lib/python3.11/dist-packages/numpy/_core/fromnumeric.py:57: FutureWarning: 'DataFrame.swapaxes' is deprecated and will be removed in a future version. Please use 'DataFrame.transpose' instead.\n",
            "  return bound(*args, **kwds)\n",
            "/usr/local/lib/python3.11/dist-packages/numpy/_core/fromnumeric.py:57: FutureWarning: 'DataFrame.swapaxes' is deprecated and will be removed in a future version. Please use 'DataFrame.transpose' instead.\n",
            "  return bound(*args, **kwds)\n",
            "/usr/local/lib/python3.11/dist-packages/numpy/_core/fromnumeric.py:57: FutureWarning: 'DataFrame.swapaxes' is deprecated and will be removed in a future version. Please use 'DataFrame.transpose' instead.\n",
            "  return bound(*args, **kwds)\n",
            "/usr/local/lib/python3.11/dist-packages/numpy/_core/fromnumeric.py:57: FutureWarning: 'DataFrame.swapaxes' is deprecated and will be removed in a future version. Please use 'DataFrame.transpose' instead.\n",
            "  return bound(*args, **kwds)\n",
            "/usr/local/lib/python3.11/dist-packages/numpy/_core/fromnumeric.py:57: FutureWarning: 'DataFrame.swapaxes' is deprecated and will be removed in a future version. Please use 'DataFrame.transpose' instead.\n",
            "  return bound(*args, **kwds)\n",
            "/usr/local/lib/python3.11/dist-packages/numpy/_core/fromnumeric.py:57: FutureWarning: 'DataFrame.swapaxes' is deprecated and will be removed in a future version. Please use 'DataFrame.transpose' instead.\n",
            "  return bound(*args, **kwds)\n",
            "/usr/local/lib/python3.11/dist-packages/numpy/_core/fromnumeric.py:57: FutureWarning: 'DataFrame.swapaxes' is deprecated and will be removed in a future version. Please use 'DataFrame.transpose' instead.\n",
            "  return bound(*args, **kwds)\n",
            "/usr/local/lib/python3.11/dist-packages/numpy/_core/fromnumeric.py:57: FutureWarning: 'DataFrame.swapaxes' is deprecated and will be removed in a future version. Please use 'DataFrame.transpose' instead.\n",
            "  return bound(*args, **kwds)\n",
            "/usr/local/lib/python3.11/dist-packages/numpy/_core/fromnumeric.py:57: FutureWarning: 'DataFrame.swapaxes' is deprecated and will be removed in a future version. Please use 'DataFrame.transpose' instead.\n",
            "  return bound(*args, **kwds)\n",
            "/usr/local/lib/python3.11/dist-packages/numpy/_core/fromnumeric.py:57: FutureWarning: 'DataFrame.swapaxes' is deprecated and will be removed in a future version. Please use 'DataFrame.transpose' instead.\n",
            "  return bound(*args, **kwds)\n",
            "/usr/local/lib/python3.11/dist-packages/numpy/_core/fromnumeric.py:57: FutureWarning: 'DataFrame.swapaxes' is deprecated and will be removed in a future version. Please use 'DataFrame.transpose' instead.\n",
            "  return bound(*args, **kwds)\n",
            "/usr/local/lib/python3.11/dist-packages/numpy/_core/fromnumeric.py:57: FutureWarning: 'DataFrame.swapaxes' is deprecated and will be removed in a future version. Please use 'DataFrame.transpose' instead.\n",
            "  return bound(*args, **kwds)\n",
            "/usr/local/lib/python3.11/dist-packages/numpy/_core/fromnumeric.py:57: FutureWarning: 'DataFrame.swapaxes' is deprecated and will be removed in a future version. Please use 'DataFrame.transpose' instead.\n",
            "  return bound(*args, **kwds)\n",
            "/usr/local/lib/python3.11/dist-packages/numpy/_core/fromnumeric.py:57: FutureWarning: 'DataFrame.swapaxes' is deprecated and will be removed in a future version. Please use 'DataFrame.transpose' instead.\n",
            "  return bound(*args, **kwds)\n",
            "/usr/local/lib/python3.11/dist-packages/numpy/_core/fromnumeric.py:57: FutureWarning: 'DataFrame.swapaxes' is deprecated and will be removed in a future version. Please use 'DataFrame.transpose' instead.\n",
            "  return bound(*args, **kwds)\n"
          ]
        }
      ]
    },
    {
      "cell_type": "code",
      "source": [
        "print(len(segment_dataframes))\n",
        "print(len(labels))"
      ],
      "metadata": {
        "colab": {
          "base_uri": "https://localhost:8080/"
        },
        "id": "Dfo2HPT3rRyM",
        "outputId": "ed61eb1d-37a5-4240-d31a-14f547470a85"
      },
      "execution_count": 48,
      "outputs": [
        {
          "output_type": "stream",
          "name": "stdout",
          "text": [
            "1378\n",
            "1378\n"
          ]
        }
      ]
    },
    {
      "cell_type": "code",
      "source": [
        "print(segment_dataframes[3])"
      ],
      "metadata": {
        "colab": {
          "base_uri": "https://localhost:8080/"
        },
        "id": "2UC2Q53UrUuI",
        "outputId": "0615ec53-e37c-4e32-cfdb-2893d654f1db"
      },
      "execution_count": 49,
      "outputs": [
        {
          "output_type": "stream",
          "name": "stdout",
          "text": [
            "            0    1          6          7          8          9          10  \\\n",
            "723  105.60303  4.0  28.425341  29.206164  29.000000  29.068884  27.202941   \n",
            "724  105.60303  4.0  27.202941  27.202941  25.709920  29.120440  28.460499   \n",
            "725  105.60303  4.0  27.294688  27.073973  30.265492  30.413813  29.427878   \n",
            "726  105.60303  4.0  23.000000  28.071338  27.166155  25.079872  24.083189   \n",
            "727  105.60303  4.0  24.698178  27.313001  24.351591  25.632011  25.000000   \n",
            "..         ...  ...        ...        ...        ...        ...        ...   \n",
            "918  105.60303  4.0  21.470911  24.738634  24.186773  25.961510  26.400758   \n",
            "919  105.60303  4.0  64.938432  49.497475  60.827625  57.558666  63.198101   \n",
            "920  105.60303  4.0  27.784888  27.730849  26.419690  25.238859  29.529646   \n",
            "921  105.60303  4.0  25.806976  25.238859  23.600847  26.400758  23.853721   \n",
            "922  105.60303  4.0  27.459060  24.758837  26.419690  24.083189  28.017851   \n",
            "\n",
            "            11         12         13  ...         48         49         50  \\\n",
            "723  28.600699  27.802878  28.301943  ...  13.601471  14.422205  13.892444   \n",
            "724  27.892651  27.202941  27.892651  ...  13.892444  11.401754  12.806248   \n",
            "725  28.635642  29.832868  28.861739  ...  14.000000  13.038405  11.000000   \n",
            "726  30.066593  28.017851  29.068884  ...  14.317821  13.601471  11.704700   \n",
            "727  28.460499  28.160256  27.202941  ...  13.601471  11.313708  11.313708   \n",
            "..         ...        ...        ...  ...        ...        ...        ...   \n",
            "918  26.248809  23.706539  25.495098  ...  12.206556  11.313708  10.630146   \n",
            "919  59.135438  67.082039  58.051701  ...  31.048349  35.846897  29.154759   \n",
            "920  23.769729  29.068884  26.832816  ...  13.152946  11.180340   9.000000   \n",
            "921  25.942244  25.612497  26.400758  ...  12.649111   9.899495   7.280110   \n",
            "922  26.419690  26.248809  26.400758  ...   9.848858  11.661904   9.848858   \n",
            "\n",
            "            51         52         53         54         55         56  \\\n",
            "723  12.083046  12.206556  10.295630  10.295630   8.062258   8.062258   \n",
            "724  12.041595   9.433981  10.295630   8.944272   9.219544   8.544004   \n",
            "725  13.152946  12.041595  11.045361   9.000000   9.055385  10.049876   \n",
            "726  11.704700   8.544004  11.180340   9.219544  10.440307   6.082763   \n",
            "727  10.000000  10.630146   9.899495  10.630146   7.211103   6.403124   \n",
            "..         ...        ...        ...        ...        ...        ...   \n",
            "918  10.630146  12.041595  12.041595  10.000000   7.810250  10.630146   \n",
            "919  29.154759  26.248809  28.600699  23.259407  22.825424  24.041631   \n",
            "920   9.055385   9.219544  12.165525   9.055385   9.055385   8.944272   \n",
            "921  10.770330   7.615773  12.083046   6.324555   8.544004   8.544004   \n",
            "922   8.544004  11.180340   8.944272   8.062258   8.544004   6.708204   \n",
            "\n",
            "            57  \n",
            "723   9.219544  \n",
            "724   7.211103  \n",
            "725   8.000000  \n",
            "726   9.219544  \n",
            "727   8.062258  \n",
            "..         ...  \n",
            "918   6.403124  \n",
            "919  15.811388  \n",
            "920   4.123106  \n",
            "921   5.000000  \n",
            "922   5.830952  \n",
            "\n",
            "[200 rows x 53 columns]\n"
          ]
        }
      ]
    },
    {
      "cell_type": "markdown",
      "source": [
        "## CNN Model"
      ],
      "metadata": {
        "id": "EGGvE29xrgHd"
      }
    },
    {
      "cell_type": "code",
      "source": [
        "# Convert DataFrames to matrices\n",
        "matrix_list = [df.values for df in segment_dataframes]\n",
        "\n",
        "# Stack matrices vertically\n",
        "stacked_matrix = np.vstack(matrix_list)"
      ],
      "metadata": {
        "id": "fwgofDXZsY_V"
      },
      "execution_count": 50,
      "outputs": []
    },
    {
      "cell_type": "code",
      "source": [
        "dataset_array = np.concatenate(segment_dataframes, axis=0)"
      ],
      "metadata": {
        "id": "it0FfKgiuIGE"
      },
      "execution_count": 51,
      "outputs": []
    },
    {
      "cell_type": "code",
      "source": [
        "print(matrix_list.shape)"
      ],
      "metadata": {
        "colab": {
          "base_uri": "https://localhost:8080/",
          "height": 141
        },
        "id": "Ku2VFs-iuV8A",
        "outputId": "6960d166-5128-45c0-d7be-8ca633c29276"
      },
      "execution_count": 53,
      "outputs": [
        {
          "output_type": "error",
          "ename": "AttributeError",
          "evalue": "'list' object has no attribute 'shape'",
          "traceback": [
            "\u001b[0;31m---------------------------------------------------------------------------\u001b[0m",
            "\u001b[0;31mAttributeError\u001b[0m                            Traceback (most recent call last)",
            "\u001b[0;32m<ipython-input-53-18d103a88eb4>\u001b[0m in \u001b[0;36m<cell line: 0>\u001b[0;34m()\u001b[0m\n\u001b[0;32m----> 1\u001b[0;31m \u001b[0mprint\u001b[0m\u001b[0;34m(\u001b[0m\u001b[0mmatrix_list\u001b[0m\u001b[0;34m.\u001b[0m\u001b[0mshape\u001b[0m\u001b[0;34m)\u001b[0m\u001b[0;34m\u001b[0m\u001b[0;34m\u001b[0m\u001b[0m\n\u001b[0m",
            "\u001b[0;31mAttributeError\u001b[0m: 'list' object has no attribute 'shape'"
          ]
        }
      ]
    },
    {
      "cell_type": "code",
      "source": [
        "print(stacked_matrix)"
      ],
      "metadata": {
        "colab": {
          "base_uri": "https://localhost:8080/"
        },
        "id": "w64LxJ12t6QE",
        "outputId": "2995f693-7564-48ae-eed6-67f3aa0f757f"
      },
      "execution_count": 54,
      "outputs": [
        {
          "output_type": "stream",
          "name": "stdout",
          "text": [
            "[[105.60303026   4.          25.63201124 ...  15.23154621  13.92838828\n",
            "   11.70469991]\n",
            " [105.60303026   4.           8.24621125 ...   4.           4.\n",
            "    4.12310563]\n",
            " [105.60303026   4.          63.0634601  ...  54.4242593   49.65883607\n",
            "   39.84971769]\n",
            " ...\n",
            " [105.60303026   4.          12.64911064 ...  12.08304597  14.76482306\n",
            "   15.26433752]\n",
            " [105.60303026   4.           9.8488578  ...  13.41640786  13.03840481\n",
            "   13.89244399]\n",
            " [105.60303026   4.           7.81024968 ...  11.40175425  11.40175425\n",
            "   12.08304597]]\n"
          ]
        }
      ]
    },
    {
      "cell_type": "code",
      "source": [
        "from sklearn.model_selection import train_test_split\n",
        "labels = np.array(labels)\n",
        "\n",
        "X_train, X_test, y_train, y_test = train_test_split(segment_dataframes, labels, test_size=0.3, random_state=42)\n",
        "\n",
        "X_train = np.array(X_train)\n",
        "X_train = X_train.astype('float32')\n",
        "X_train /= 255\n",
        "X_test = np.array(X_test)\n",
        "X_test = X_test.astype('float32')\n",
        "X_test /= 255"
      ],
      "metadata": {
        "id": "u9O7HxS9roTh"
      },
      "execution_count": 55,
      "outputs": []
    },
    {
      "cell_type": "code",
      "source": [
        "print(X_train.shape)"
      ],
      "metadata": {
        "colab": {
          "base_uri": "https://localhost:8080/"
        },
        "id": "OVFnea8hunLs",
        "outputId": "4bc005b7-f27c-424c-83ca-7a6afcbc7344"
      },
      "execution_count": 56,
      "outputs": [
        {
          "output_type": "stream",
          "name": "stdout",
          "text": [
            "(964, 200, 53)\n"
          ]
        }
      ]
    },
    {
      "cell_type": "code",
      "source": [
        "from sklearn.preprocessing import LabelEncoder\n",
        "label_encoder = LabelEncoder()\n",
        "label_encoder.fit(y_train)\n",
        "y_train_encoded = label_encoder.transform(y_train)\n",
        "y_test_encoded = label_encoder.transform(y_test)"
      ],
      "metadata": {
        "id": "E89P9lMKvAyV"
      },
      "execution_count": 57,
      "outputs": []
    },
    {
      "cell_type": "code",
      "source": [
        "import tensorflow as tf\n",
        "from tensorflow import keras\n",
        "from tensorflow.keras.layers import Dense, Dropout,Attention\n",
        "from tensorflow.keras.losses import SparseCategoricalCrossentropy\n",
        "\n",
        "\n",
        "# Define the CNN model\n",
        "model = keras.Sequential([\n",
        "    keras.layers.Conv2D(32, 7, activation='relu' , input_shape=(200, 53,1)),\n",
        "    keras.layers.MaxPooling2D(2),\n",
        "    keras.layers.Conv2D(96, 5, activation='relu'),\n",
        "    keras.layers.MaxPooling2D(2),\n",
        "    keras.layers.Flatten(),\n",
        "    keras.layers.Dense(128, activation='relu'),\n",
        "    keras.layers.Dropout(0.5),\n",
        "    keras.layers.Dense(64, activation='relu'),\n",
        "    keras.layers.Dropout(0.25),\n",
        "    keras.layers.Dense(7, activation='softmax')\n",
        "\n",
        "])\n",
        "\n",
        "# Compile the model\n",
        "model.compile(optimizer= tf.keras.optimizers.Adam(learning_rate=0.0001),\n",
        "              loss='sparse_categorical_crossentropy',\n",
        "              metrics=['accuracy'])\n",
        "model.summary()"
      ],
      "metadata": {
        "colab": {
          "base_uri": "https://localhost:8080/",
          "height": 504
        },
        "id": "L4Gp7IH5upyn",
        "outputId": "11930801-3798-49e2-e64f-411971e1f81e"
      },
      "execution_count": 58,
      "outputs": [
        {
          "output_type": "stream",
          "name": "stderr",
          "text": [
            "/usr/local/lib/python3.11/dist-packages/keras/src/layers/convolutional/base_conv.py:107: UserWarning: Do not pass an `input_shape`/`input_dim` argument to a layer. When using Sequential models, prefer using an `Input(shape)` object as the first layer in the model instead.\n",
            "  super().__init__(activity_regularizer=activity_regularizer, **kwargs)\n"
          ]
        },
        {
          "output_type": "display_data",
          "data": {
            "text/plain": [
              "\u001b[1mModel: \"sequential\"\u001b[0m\n"
            ],
            "text/html": [
              "<pre style=\"white-space:pre;overflow-x:auto;line-height:normal;font-family:Menlo,'DejaVu Sans Mono',consolas,'Courier New',monospace\"><span style=\"font-weight: bold\">Model: \"sequential\"</span>\n",
              "</pre>\n"
            ]
          },
          "metadata": {}
        },
        {
          "output_type": "display_data",
          "data": {
            "text/plain": [
              "┏━━━━━━━━━━━━━━━━━━━━━━━━━━━━━━━━━┳━━━━━━━━━━━━━━━━━━━━━━━━┳━━━━━━━━━━━━━━━┓\n",
              "┃\u001b[1m \u001b[0m\u001b[1mLayer (type)                   \u001b[0m\u001b[1m \u001b[0m┃\u001b[1m \u001b[0m\u001b[1mOutput Shape          \u001b[0m\u001b[1m \u001b[0m┃\u001b[1m \u001b[0m\u001b[1m      Param #\u001b[0m\u001b[1m \u001b[0m┃\n",
              "┡━━━━━━━━━━━━━━━━━━━━━━━━━━━━━━━━━╇━━━━━━━━━━━━━━━━━━━━━━━━╇━━━━━━━━━━━━━━━┩\n",
              "│ conv2d (\u001b[38;5;33mConv2D\u001b[0m)                 │ (\u001b[38;5;45mNone\u001b[0m, \u001b[38;5;34m194\u001b[0m, \u001b[38;5;34m47\u001b[0m, \u001b[38;5;34m32\u001b[0m)    │         \u001b[38;5;34m1,600\u001b[0m │\n",
              "├─────────────────────────────────┼────────────────────────┼───────────────┤\n",
              "│ max_pooling2d (\u001b[38;5;33mMaxPooling2D\u001b[0m)    │ (\u001b[38;5;45mNone\u001b[0m, \u001b[38;5;34m97\u001b[0m, \u001b[38;5;34m23\u001b[0m, \u001b[38;5;34m32\u001b[0m)     │             \u001b[38;5;34m0\u001b[0m │\n",
              "├─────────────────────────────────┼────────────────────────┼───────────────┤\n",
              "│ conv2d_1 (\u001b[38;5;33mConv2D\u001b[0m)               │ (\u001b[38;5;45mNone\u001b[0m, \u001b[38;5;34m93\u001b[0m, \u001b[38;5;34m19\u001b[0m, \u001b[38;5;34m96\u001b[0m)     │        \u001b[38;5;34m76,896\u001b[0m │\n",
              "├─────────────────────────────────┼────────────────────────┼───────────────┤\n",
              "│ max_pooling2d_1 (\u001b[38;5;33mMaxPooling2D\u001b[0m)  │ (\u001b[38;5;45mNone\u001b[0m, \u001b[38;5;34m46\u001b[0m, \u001b[38;5;34m9\u001b[0m, \u001b[38;5;34m96\u001b[0m)      │             \u001b[38;5;34m0\u001b[0m │\n",
              "├─────────────────────────────────┼────────────────────────┼───────────────┤\n",
              "│ flatten (\u001b[38;5;33mFlatten\u001b[0m)               │ (\u001b[38;5;45mNone\u001b[0m, \u001b[38;5;34m39744\u001b[0m)          │             \u001b[38;5;34m0\u001b[0m │\n",
              "├─────────────────────────────────┼────────────────────────┼───────────────┤\n",
              "│ dense (\u001b[38;5;33mDense\u001b[0m)                   │ (\u001b[38;5;45mNone\u001b[0m, \u001b[38;5;34m128\u001b[0m)            │     \u001b[38;5;34m5,087,360\u001b[0m │\n",
              "├─────────────────────────────────┼────────────────────────┼───────────────┤\n",
              "│ dropout (\u001b[38;5;33mDropout\u001b[0m)               │ (\u001b[38;5;45mNone\u001b[0m, \u001b[38;5;34m128\u001b[0m)            │             \u001b[38;5;34m0\u001b[0m │\n",
              "├─────────────────────────────────┼────────────────────────┼───────────────┤\n",
              "│ dense_1 (\u001b[38;5;33mDense\u001b[0m)                 │ (\u001b[38;5;45mNone\u001b[0m, \u001b[38;5;34m64\u001b[0m)             │         \u001b[38;5;34m8,256\u001b[0m │\n",
              "├─────────────────────────────────┼────────────────────────┼───────────────┤\n",
              "│ dropout_1 (\u001b[38;5;33mDropout\u001b[0m)             │ (\u001b[38;5;45mNone\u001b[0m, \u001b[38;5;34m64\u001b[0m)             │             \u001b[38;5;34m0\u001b[0m │\n",
              "├─────────────────────────────────┼────────────────────────┼───────────────┤\n",
              "│ dense_2 (\u001b[38;5;33mDense\u001b[0m)                 │ (\u001b[38;5;45mNone\u001b[0m, \u001b[38;5;34m7\u001b[0m)              │           \u001b[38;5;34m455\u001b[0m │\n",
              "└─────────────────────────────────┴────────────────────────┴───────────────┘\n"
            ],
            "text/html": [
              "<pre style=\"white-space:pre;overflow-x:auto;line-height:normal;font-family:Menlo,'DejaVu Sans Mono',consolas,'Courier New',monospace\">┏━━━━━━━━━━━━━━━━━━━━━━━━━━━━━━━━━┳━━━━━━━━━━━━━━━━━━━━━━━━┳━━━━━━━━━━━━━━━┓\n",
              "┃<span style=\"font-weight: bold\"> Layer (type)                    </span>┃<span style=\"font-weight: bold\"> Output Shape           </span>┃<span style=\"font-weight: bold\">       Param # </span>┃\n",
              "┡━━━━━━━━━━━━━━━━━━━━━━━━━━━━━━━━━╇━━━━━━━━━━━━━━━━━━━━━━━━╇━━━━━━━━━━━━━━━┩\n",
              "│ conv2d (<span style=\"color: #0087ff; text-decoration-color: #0087ff\">Conv2D</span>)                 │ (<span style=\"color: #00d7ff; text-decoration-color: #00d7ff\">None</span>, <span style=\"color: #00af00; text-decoration-color: #00af00\">194</span>, <span style=\"color: #00af00; text-decoration-color: #00af00\">47</span>, <span style=\"color: #00af00; text-decoration-color: #00af00\">32</span>)    │         <span style=\"color: #00af00; text-decoration-color: #00af00\">1,600</span> │\n",
              "├─────────────────────────────────┼────────────────────────┼───────────────┤\n",
              "│ max_pooling2d (<span style=\"color: #0087ff; text-decoration-color: #0087ff\">MaxPooling2D</span>)    │ (<span style=\"color: #00d7ff; text-decoration-color: #00d7ff\">None</span>, <span style=\"color: #00af00; text-decoration-color: #00af00\">97</span>, <span style=\"color: #00af00; text-decoration-color: #00af00\">23</span>, <span style=\"color: #00af00; text-decoration-color: #00af00\">32</span>)     │             <span style=\"color: #00af00; text-decoration-color: #00af00\">0</span> │\n",
              "├─────────────────────────────────┼────────────────────────┼───────────────┤\n",
              "│ conv2d_1 (<span style=\"color: #0087ff; text-decoration-color: #0087ff\">Conv2D</span>)               │ (<span style=\"color: #00d7ff; text-decoration-color: #00d7ff\">None</span>, <span style=\"color: #00af00; text-decoration-color: #00af00\">93</span>, <span style=\"color: #00af00; text-decoration-color: #00af00\">19</span>, <span style=\"color: #00af00; text-decoration-color: #00af00\">96</span>)     │        <span style=\"color: #00af00; text-decoration-color: #00af00\">76,896</span> │\n",
              "├─────────────────────────────────┼────────────────────────┼───────────────┤\n",
              "│ max_pooling2d_1 (<span style=\"color: #0087ff; text-decoration-color: #0087ff\">MaxPooling2D</span>)  │ (<span style=\"color: #00d7ff; text-decoration-color: #00d7ff\">None</span>, <span style=\"color: #00af00; text-decoration-color: #00af00\">46</span>, <span style=\"color: #00af00; text-decoration-color: #00af00\">9</span>, <span style=\"color: #00af00; text-decoration-color: #00af00\">96</span>)      │             <span style=\"color: #00af00; text-decoration-color: #00af00\">0</span> │\n",
              "├─────────────────────────────────┼────────────────────────┼───────────────┤\n",
              "│ flatten (<span style=\"color: #0087ff; text-decoration-color: #0087ff\">Flatten</span>)               │ (<span style=\"color: #00d7ff; text-decoration-color: #00d7ff\">None</span>, <span style=\"color: #00af00; text-decoration-color: #00af00\">39744</span>)          │             <span style=\"color: #00af00; text-decoration-color: #00af00\">0</span> │\n",
              "├─────────────────────────────────┼────────────────────────┼───────────────┤\n",
              "│ dense (<span style=\"color: #0087ff; text-decoration-color: #0087ff\">Dense</span>)                   │ (<span style=\"color: #00d7ff; text-decoration-color: #00d7ff\">None</span>, <span style=\"color: #00af00; text-decoration-color: #00af00\">128</span>)            │     <span style=\"color: #00af00; text-decoration-color: #00af00\">5,087,360</span> │\n",
              "├─────────────────────────────────┼────────────────────────┼───────────────┤\n",
              "│ dropout (<span style=\"color: #0087ff; text-decoration-color: #0087ff\">Dropout</span>)               │ (<span style=\"color: #00d7ff; text-decoration-color: #00d7ff\">None</span>, <span style=\"color: #00af00; text-decoration-color: #00af00\">128</span>)            │             <span style=\"color: #00af00; text-decoration-color: #00af00\">0</span> │\n",
              "├─────────────────────────────────┼────────────────────────┼───────────────┤\n",
              "│ dense_1 (<span style=\"color: #0087ff; text-decoration-color: #0087ff\">Dense</span>)                 │ (<span style=\"color: #00d7ff; text-decoration-color: #00d7ff\">None</span>, <span style=\"color: #00af00; text-decoration-color: #00af00\">64</span>)             │         <span style=\"color: #00af00; text-decoration-color: #00af00\">8,256</span> │\n",
              "├─────────────────────────────────┼────────────────────────┼───────────────┤\n",
              "│ dropout_1 (<span style=\"color: #0087ff; text-decoration-color: #0087ff\">Dropout</span>)             │ (<span style=\"color: #00d7ff; text-decoration-color: #00d7ff\">None</span>, <span style=\"color: #00af00; text-decoration-color: #00af00\">64</span>)             │             <span style=\"color: #00af00; text-decoration-color: #00af00\">0</span> │\n",
              "├─────────────────────────────────┼────────────────────────┼───────────────┤\n",
              "│ dense_2 (<span style=\"color: #0087ff; text-decoration-color: #0087ff\">Dense</span>)                 │ (<span style=\"color: #00d7ff; text-decoration-color: #00d7ff\">None</span>, <span style=\"color: #00af00; text-decoration-color: #00af00\">7</span>)              │           <span style=\"color: #00af00; text-decoration-color: #00af00\">455</span> │\n",
              "└─────────────────────────────────┴────────────────────────┴───────────────┘\n",
              "</pre>\n"
            ]
          },
          "metadata": {}
        },
        {
          "output_type": "display_data",
          "data": {
            "text/plain": [
              "\u001b[1m Total params: \u001b[0m\u001b[38;5;34m5,174,567\u001b[0m (19.74 MB)\n"
            ],
            "text/html": [
              "<pre style=\"white-space:pre;overflow-x:auto;line-height:normal;font-family:Menlo,'DejaVu Sans Mono',consolas,'Courier New',monospace\"><span style=\"font-weight: bold\"> Total params: </span><span style=\"color: #00af00; text-decoration-color: #00af00\">5,174,567</span> (19.74 MB)\n",
              "</pre>\n"
            ]
          },
          "metadata": {}
        },
        {
          "output_type": "display_data",
          "data": {
            "text/plain": [
              "\u001b[1m Trainable params: \u001b[0m\u001b[38;5;34m5,174,567\u001b[0m (19.74 MB)\n"
            ],
            "text/html": [
              "<pre style=\"white-space:pre;overflow-x:auto;line-height:normal;font-family:Menlo,'DejaVu Sans Mono',consolas,'Courier New',monospace\"><span style=\"font-weight: bold\"> Trainable params: </span><span style=\"color: #00af00; text-decoration-color: #00af00\">5,174,567</span> (19.74 MB)\n",
              "</pre>\n"
            ]
          },
          "metadata": {}
        },
        {
          "output_type": "display_data",
          "data": {
            "text/plain": [
              "\u001b[1m Non-trainable params: \u001b[0m\u001b[38;5;34m0\u001b[0m (0.00 B)\n"
            ],
            "text/html": [
              "<pre style=\"white-space:pre;overflow-x:auto;line-height:normal;font-family:Menlo,'DejaVu Sans Mono',consolas,'Courier New',monospace\"><span style=\"font-weight: bold\"> Non-trainable params: </span><span style=\"color: #00af00; text-decoration-color: #00af00\">0</span> (0.00 B)\n",
              "</pre>\n"
            ]
          },
          "metadata": {}
        }
      ]
    },
    {
      "cell_type": "code",
      "source": [
        "history = model.fit(X_train, y_train_encoded, epochs=50, batch_size=8,validation_split=0.2)"
      ],
      "metadata": {
        "colab": {
          "base_uri": "https://localhost:8080/"
        },
        "id": "LX6Df0Z7uvZu",
        "outputId": "de202c11-60d3-4090-8148-dacae74dfcef"
      },
      "execution_count": 59,
      "outputs": [
        {
          "output_type": "stream",
          "name": "stdout",
          "text": [
            "Epoch 1/50\n",
            "\u001b[1m97/97\u001b[0m \u001b[32m━━━━━━━━━━━━━━━━━━━━\u001b[0m\u001b[37m\u001b[0m \u001b[1m30s\u001b[0m 271ms/step - accuracy: 0.9613 - loss: 0.5518 - val_accuracy: 1.0000 - val_loss: 4.7189e-07\n",
            "Epoch 2/50\n",
            "\u001b[1m97/97\u001b[0m \u001b[32m━━━━━━━━━━━━━━━━━━━━\u001b[0m\u001b[37m\u001b[0m \u001b[1m40s\u001b[0m 266ms/step - accuracy: 1.0000 - loss: 3.5568e-04 - val_accuracy: 1.0000 - val_loss: 1.9765e-08\n",
            "Epoch 3/50\n",
            "\u001b[1m97/97\u001b[0m \u001b[32m━━━━━━━━━━━━━━━━━━━━\u001b[0m\u001b[37m\u001b[0m \u001b[1m42s\u001b[0m 273ms/step - accuracy: 1.0000 - loss: 7.5131e-05 - val_accuracy: 1.0000 - val_loss: 2.4707e-09\n",
            "Epoch 4/50\n",
            "\u001b[1m97/97\u001b[0m \u001b[32m━━━━━━━━━━━━━━━━━━━━\u001b[0m\u001b[37m\u001b[0m \u001b[1m40s\u001b[0m 266ms/step - accuracy: 1.0000 - loss: 3.3611e-04 - val_accuracy: 1.0000 - val_loss: 0.0000e+00\n",
            "Epoch 5/50\n",
            "\u001b[1m97/97\u001b[0m \u001b[32m━━━━━━━━━━━━━━━━━━━━\u001b[0m\u001b[37m\u001b[0m \u001b[1m41s\u001b[0m 262ms/step - accuracy: 1.0000 - loss: 1.1660e-05 - val_accuracy: 1.0000 - val_loss: 0.0000e+00\n",
            "Epoch 6/50\n",
            "\u001b[1m97/97\u001b[0m \u001b[32m━━━━━━━━━━━━━━━━━━━━\u001b[0m\u001b[37m\u001b[0m \u001b[1m26s\u001b[0m 271ms/step - accuracy: 1.0000 - loss: 1.7985e-05 - val_accuracy: 1.0000 - val_loss: 0.0000e+00\n",
            "Epoch 7/50\n",
            "\u001b[1m97/97\u001b[0m \u001b[32m━━━━━━━━━━━━━━━━━━━━\u001b[0m\u001b[37m\u001b[0m \u001b[1m41s\u001b[0m 270ms/step - accuracy: 1.0000 - loss: 3.8307e-05 - val_accuracy: 1.0000 - val_loss: 0.0000e+00\n",
            "Epoch 8/50\n",
            "\u001b[1m97/97\u001b[0m \u001b[32m━━━━━━━━━━━━━━━━━━━━\u001b[0m\u001b[37m\u001b[0m \u001b[1m25s\u001b[0m 262ms/step - accuracy: 1.0000 - loss: 4.5504e-05 - val_accuracy: 1.0000 - val_loss: 0.0000e+00\n",
            "Epoch 9/50\n",
            "\u001b[1m97/97\u001b[0m \u001b[32m━━━━━━━━━━━━━━━━━━━━\u001b[0m\u001b[37m\u001b[0m \u001b[1m41s\u001b[0m 261ms/step - accuracy: 1.0000 - loss: 2.7891e-05 - val_accuracy: 1.0000 - val_loss: 0.0000e+00\n",
            "Epoch 10/50\n",
            "\u001b[1m97/97\u001b[0m \u001b[32m━━━━━━━━━━━━━━━━━━━━\u001b[0m\u001b[37m\u001b[0m \u001b[1m25s\u001b[0m 260ms/step - accuracy: 1.0000 - loss: 4.0096e-06 - val_accuracy: 1.0000 - val_loss: 0.0000e+00\n",
            "Epoch 11/50\n",
            "\u001b[1m97/97\u001b[0m \u001b[32m━━━━━━━━━━━━━━━━━━━━\u001b[0m\u001b[37m\u001b[0m \u001b[1m25s\u001b[0m 259ms/step - accuracy: 1.0000 - loss: 6.1127e-06 - val_accuracy: 1.0000 - val_loss: 0.0000e+00\n",
            "Epoch 12/50\n",
            "\u001b[1m97/97\u001b[0m \u001b[32m━━━━━━━━━━━━━━━━━━━━\u001b[0m\u001b[37m\u001b[0m \u001b[1m42s\u001b[0m 271ms/step - accuracy: 1.0000 - loss: 1.4785e-08 - val_accuracy: 1.0000 - val_loss: 0.0000e+00\n",
            "Epoch 13/50\n",
            "\u001b[1m97/97\u001b[0m \u001b[32m━━━━━━━━━━━━━━━━━━━━\u001b[0m\u001b[37m\u001b[0m \u001b[1m40s\u001b[0m 265ms/step - accuracy: 1.0000 - loss: 2.3855e-04 - val_accuracy: 1.0000 - val_loss: 0.0000e+00\n",
            "Epoch 14/50\n",
            "\u001b[1m97/97\u001b[0m \u001b[32m━━━━━━━━━━━━━━━━━━━━\u001b[0m\u001b[37m\u001b[0m \u001b[1m41s\u001b[0m 271ms/step - accuracy: 1.0000 - loss: 1.2045e-09 - val_accuracy: 1.0000 - val_loss: 0.0000e+00\n",
            "Epoch 15/50\n",
            "\u001b[1m97/97\u001b[0m \u001b[32m━━━━━━━━━━━━━━━━━━━━\u001b[0m\u001b[37m\u001b[0m \u001b[1m26s\u001b[0m 272ms/step - accuracy: 1.0000 - loss: 1.2787e-06 - val_accuracy: 1.0000 - val_loss: 0.0000e+00\n",
            "Epoch 16/50\n",
            "\u001b[1m97/97\u001b[0m \u001b[32m━━━━━━━━━━━━━━━━━━━━\u001b[0m\u001b[37m\u001b[0m \u001b[1m44s\u001b[0m 307ms/step - accuracy: 1.0000 - loss: 2.5125e-08 - val_accuracy: 1.0000 - val_loss: 0.0000e+00\n",
            "Epoch 17/50\n",
            "\u001b[1m97/97\u001b[0m \u001b[32m━━━━━━━━━━━━━━━━━━━━\u001b[0m\u001b[37m\u001b[0m \u001b[1m37s\u001b[0m 260ms/step - accuracy: 1.0000 - loss: 3.6955e-07 - val_accuracy: 1.0000 - val_loss: 0.0000e+00\n",
            "Epoch 18/50\n",
            "\u001b[1m97/97\u001b[0m \u001b[32m━━━━━━━━━━━━━━━━━━━━\u001b[0m\u001b[37m\u001b[0m \u001b[1m41s\u001b[0m 262ms/step - accuracy: 1.0000 - loss: 2.2793e-06 - val_accuracy: 1.0000 - val_loss: 0.0000e+00\n",
            "Epoch 19/50\n",
            "\u001b[1m97/97\u001b[0m \u001b[32m━━━━━━━━━━━━━━━━━━━━\u001b[0m\u001b[37m\u001b[0m \u001b[1m41s\u001b[0m 259ms/step - accuracy: 1.0000 - loss: 1.1775e-07 - val_accuracy: 1.0000 - val_loss: 0.0000e+00\n",
            "Epoch 20/50\n",
            "\u001b[1m97/97\u001b[0m \u001b[32m━━━━━━━━━━━━━━━━━━━━\u001b[0m\u001b[37m\u001b[0m \u001b[1m41s\u001b[0m 262ms/step - accuracy: 1.0000 - loss: 7.7577e-04 - val_accuracy: 1.0000 - val_loss: 0.0000e+00\n",
            "Epoch 21/50\n",
            "\u001b[1m97/97\u001b[0m \u001b[32m━━━━━━━━━━━━━━━━━━━━\u001b[0m\u001b[37m\u001b[0m \u001b[1m41s\u001b[0m 265ms/step - accuracy: 1.0000 - loss: 5.9539e-04 - val_accuracy: 1.0000 - val_loss: 0.0000e+00\n",
            "Epoch 22/50\n",
            "\u001b[1m97/97\u001b[0m \u001b[32m━━━━━━━━━━━━━━━━━━━━\u001b[0m\u001b[37m\u001b[0m \u001b[1m26s\u001b[0m 265ms/step - accuracy: 1.0000 - loss: 6.0200e-06 - val_accuracy: 1.0000 - val_loss: 0.0000e+00\n",
            "Epoch 23/50\n",
            "\u001b[1m97/97\u001b[0m \u001b[32m━━━━━━━━━━━━━━━━━━━━\u001b[0m\u001b[37m\u001b[0m \u001b[1m42s\u001b[0m 273ms/step - accuracy: 1.0000 - loss: 6.8788e-07 - val_accuracy: 1.0000 - val_loss: 0.0000e+00\n",
            "Epoch 24/50\n",
            "\u001b[1m97/97\u001b[0m \u001b[32m━━━━━━━━━━━━━━━━━━━━\u001b[0m\u001b[37m\u001b[0m \u001b[1m41s\u001b[0m 272ms/step - accuracy: 1.0000 - loss: 9.0161e-04 - val_accuracy: 1.0000 - val_loss: 0.0000e+00\n",
            "Epoch 25/50\n",
            "\u001b[1m97/97\u001b[0m \u001b[32m━━━━━━━━━━━━━━━━━━━━\u001b[0m\u001b[37m\u001b[0m \u001b[1m41s\u001b[0m 274ms/step - accuracy: 1.0000 - loss: 3.4899e-05 - val_accuracy: 1.0000 - val_loss: 0.0000e+00\n",
            "Epoch 26/50\n",
            "\u001b[1m97/97\u001b[0m \u001b[32m━━━━━━━━━━━━━━━━━━━━\u001b[0m\u001b[37m\u001b[0m \u001b[1m42s\u001b[0m 290ms/step - accuracy: 1.0000 - loss: 5.8366e-10 - val_accuracy: 1.0000 - val_loss: 0.0000e+00\n",
            "Epoch 27/50\n",
            "\u001b[1m97/97\u001b[0m \u001b[32m━━━━━━━━━━━━━━━━━━━━\u001b[0m\u001b[37m\u001b[0m \u001b[1m40s\u001b[0m 277ms/step - accuracy: 1.0000 - loss: 1.1467e-08 - val_accuracy: 1.0000 - val_loss: 0.0000e+00\n",
            "Epoch 28/50\n",
            "\u001b[1m97/97\u001b[0m \u001b[32m━━━━━━━━━━━━━━━━━━━━\u001b[0m\u001b[37m\u001b[0m \u001b[1m27s\u001b[0m 282ms/step - accuracy: 0.9931 - loss: 0.0172 - val_accuracy: 1.0000 - val_loss: 0.0000e+00\n",
            "Epoch 29/50\n",
            "\u001b[1m97/97\u001b[0m \u001b[32m━━━━━━━━━━━━━━━━━━━━\u001b[0m\u001b[37m\u001b[0m \u001b[1m40s\u001b[0m 269ms/step - accuracy: 1.0000 - loss: 9.9331e-09 - val_accuracy: 1.0000 - val_loss: 0.0000e+00\n",
            "Epoch 30/50\n",
            "\u001b[1m97/97\u001b[0m \u001b[32m━━━━━━━━━━━━━━━━━━━━\u001b[0m\u001b[37m\u001b[0m \u001b[1m41s\u001b[0m 269ms/step - accuracy: 0.9994 - loss: 7.6717e-04 - val_accuracy: 1.0000 - val_loss: 0.0000e+00\n",
            "Epoch 31/50\n",
            "\u001b[1m97/97\u001b[0m \u001b[32m━━━━━━━━━━━━━━━━━━━━\u001b[0m\u001b[37m\u001b[0m \u001b[1m26s\u001b[0m 272ms/step - accuracy: 0.9991 - loss: 0.0012 - val_accuracy: 1.0000 - val_loss: 0.0000e+00\n",
            "Epoch 32/50\n",
            "\u001b[1m97/97\u001b[0m \u001b[32m━━━━━━━━━━━━━━━━━━━━\u001b[0m\u001b[37m\u001b[0m \u001b[1m41s\u001b[0m 268ms/step - accuracy: 0.9985 - loss: 0.0019 - val_accuracy: 1.0000 - val_loss: 0.0000e+00\n",
            "Epoch 33/50\n",
            "\u001b[1m97/97\u001b[0m \u001b[32m━━━━━━━━━━━━━━━━━━━━\u001b[0m\u001b[37m\u001b[0m \u001b[1m41s\u001b[0m 268ms/step - accuracy: 1.0000 - loss: 4.2177e-09 - val_accuracy: 1.0000 - val_loss: 0.0000e+00\n",
            "Epoch 34/50\n",
            "\u001b[1m97/97\u001b[0m \u001b[32m━━━━━━━━━━━━━━━━━━━━\u001b[0m\u001b[37m\u001b[0m \u001b[1m41s\u001b[0m 271ms/step - accuracy: 1.0000 - loss: 1.1184e-08 - val_accuracy: 1.0000 - val_loss: 0.0000e+00\n",
            "Epoch 35/50\n",
            "\u001b[1m97/97\u001b[0m \u001b[32m━━━━━━━━━━━━━━━━━━━━\u001b[0m\u001b[37m\u001b[0m \u001b[1m42s\u001b[0m 278ms/step - accuracy: 1.0000 - loss: 1.3991e-10 - val_accuracy: 1.0000 - val_loss: 0.0000e+00\n",
            "Epoch 36/50\n",
            "\u001b[1m97/97\u001b[0m \u001b[32m━━━━━━━━━━━━━━━━━━━━\u001b[0m\u001b[37m\u001b[0m \u001b[1m40s\u001b[0m 271ms/step - accuracy: 1.0000 - loss: 1.7548e-06 - val_accuracy: 1.0000 - val_loss: 0.0000e+00\n",
            "Epoch 37/50\n",
            "\u001b[1m97/97\u001b[0m \u001b[32m━━━━━━━━━━━━━━━━━━━━\u001b[0m\u001b[37m\u001b[0m \u001b[1m41s\u001b[0m 274ms/step - accuracy: 1.0000 - loss: 4.0665e-05 - val_accuracy: 1.0000 - val_loss: 0.0000e+00\n",
            "Epoch 38/50\n",
            "\u001b[1m97/97\u001b[0m \u001b[32m━━━━━━━━━━━━━━━━━━━━\u001b[0m\u001b[37m\u001b[0m \u001b[1m41s\u001b[0m 270ms/step - accuracy: 1.0000 - loss: 6.5848e-10 - val_accuracy: 1.0000 - val_loss: 0.0000e+00\n",
            "Epoch 39/50\n",
            "\u001b[1m97/97\u001b[0m \u001b[32m━━━━━━━━━━━━━━━━━━━━\u001b[0m\u001b[37m\u001b[0m \u001b[1m41s\u001b[0m 270ms/step - accuracy: 1.0000 - loss: 8.0576e-07 - val_accuracy: 1.0000 - val_loss: 0.0000e+00\n",
            "Epoch 40/50\n",
            "\u001b[1m97/97\u001b[0m \u001b[32m━━━━━━━━━━━━━━━━━━━━\u001b[0m\u001b[37m\u001b[0m \u001b[1m40s\u001b[0m 258ms/step - accuracy: 1.0000 - loss: 6.7989e-09 - val_accuracy: 1.0000 - val_loss: 0.0000e+00\n",
            "Epoch 41/50\n",
            "\u001b[1m97/97\u001b[0m \u001b[32m━━━━━━━━━━━━━━━━━━━━\u001b[0m\u001b[37m\u001b[0m \u001b[1m41s\u001b[0m 259ms/step - accuracy: 1.0000 - loss: 2.3947e-09 - val_accuracy: 1.0000 - val_loss: 0.0000e+00\n",
            "Epoch 42/50\n",
            "\u001b[1m97/97\u001b[0m \u001b[32m━━━━━━━━━━━━━━━━━━━━\u001b[0m\u001b[37m\u001b[0m \u001b[1m41s\u001b[0m 260ms/step - accuracy: 1.0000 - loss: 1.4896e-08 - val_accuracy: 1.0000 - val_loss: 0.0000e+00\n",
            "Epoch 43/50\n",
            "\u001b[1m97/97\u001b[0m \u001b[32m━━━━━━━━━━━━━━━━━━━━\u001b[0m\u001b[37m\u001b[0m \u001b[1m41s\u001b[0m 263ms/step - accuracy: 1.0000 - loss: 4.1369e-08 - val_accuracy: 1.0000 - val_loss: 0.0000e+00\n",
            "Epoch 44/50\n",
            "\u001b[1m97/97\u001b[0m \u001b[32m━━━━━━━━━━━━━━━━━━━━\u001b[0m\u001b[37m\u001b[0m \u001b[1m27s\u001b[0m 280ms/step - accuracy: 1.0000 - loss: 3.7252e-05 - val_accuracy: 1.0000 - val_loss: 0.0000e+00\n",
            "Epoch 45/50\n",
            "\u001b[1m97/97\u001b[0m \u001b[32m━━━━━━━━━━━━━━━━━━━━\u001b[0m\u001b[37m\u001b[0m \u001b[1m40s\u001b[0m 268ms/step - accuracy: 1.0000 - loss: 3.2847e-10 - val_accuracy: 1.0000 - val_loss: 0.0000e+00\n",
            "Epoch 46/50\n",
            "\u001b[1m97/97\u001b[0m \u001b[32m━━━━━━━━━━━━━━━━━━━━\u001b[0m\u001b[37m\u001b[0m \u001b[1m41s\u001b[0m 268ms/step - accuracy: 1.0000 - loss: 4.2653e-07 - val_accuracy: 1.0000 - val_loss: 0.0000e+00\n",
            "Epoch 47/50\n",
            "\u001b[1m97/97\u001b[0m \u001b[32m━━━━━━━━━━━━━━━━━━━━\u001b[0m\u001b[37m\u001b[0m \u001b[1m41s\u001b[0m 266ms/step - accuracy: 1.0000 - loss: 2.9094e-07 - val_accuracy: 1.0000 - val_loss: 0.0000e+00\n",
            "Epoch 48/50\n",
            "\u001b[1m97/97\u001b[0m \u001b[32m━━━━━━━━━━━━━━━━━━━━\u001b[0m\u001b[37m\u001b[0m \u001b[1m41s\u001b[0m 270ms/step - accuracy: 1.0000 - loss: 9.8637e-11 - val_accuracy: 1.0000 - val_loss: 0.0000e+00\n",
            "Epoch 49/50\n",
            "\u001b[1m97/97\u001b[0m \u001b[32m━━━━━━━━━━━━━━━━━━━━\u001b[0m\u001b[37m\u001b[0m \u001b[1m41s\u001b[0m 272ms/step - accuracy: 1.0000 - loss: 1.3857e-07 - val_accuracy: 1.0000 - val_loss: 0.0000e+00\n",
            "Epoch 50/50\n",
            "\u001b[1m97/97\u001b[0m \u001b[32m━━━━━━━━━━━━━━━━━━━━\u001b[0m\u001b[37m\u001b[0m \u001b[1m42s\u001b[0m 278ms/step - accuracy: 1.0000 - loss: 2.9368e-09 - val_accuracy: 1.0000 - val_loss: 0.0000e+00\n"
          ]
        }
      ]
    }
  ]
}